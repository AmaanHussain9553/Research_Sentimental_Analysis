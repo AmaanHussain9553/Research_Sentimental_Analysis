{
 "cells": [
  {
   "cell_type": "code",
   "execution_count": 1,
   "id": "c6a507ee",
   "metadata": {},
   "outputs": [
    {
     "name": "stderr",
     "output_type": "stream",
     "text": [
      "Using TensorFlow backend.\n"
     ]
    }
   ],
   "source": [
    "import numpy as np\n",
    "import pandas as pd\n",
    "from keras.preprocessing.text import one_hot\n",
    "from keras.preprocessing.sequence import pad_sequences\n",
    "from keras.models import Sequential\n",
    "from keras.layers import Dense\n",
    "from keras.layers import LSTM\n",
    "from keras.layers.embeddings import Embedding\n",
    "from keras.preprocessing import sequence\n",
    "from nltk.corpus import stopwords\n",
    "cachedStopWords = stopwords.words(\"english\")\n",
    "# fix random seed for reproducibility\n",
    "np.random.seed(7)"
   ]
  },
  {
   "cell_type": "code",
   "execution_count": 2,
   "id": "a9d4a89d",
   "metadata": {},
   "outputs": [
    {
     "name": "stdout",
     "output_type": "stream",
     "text": [
      "[' @user when a father is dysfunctional and is so selfish he drags his kids into his dysfunction.   #run', \"@user @user thanks for #lyft credit i can't use cause they don't offer wheelchair vans in pdx.    #disapointed #getthanked\", '  bihday your majesty', '#model   i love u take with u all the time in urð\\x9f\\x93±!!! ð\\x9f\\x98\\x99ð\\x9f\\x98\\x8eð\\x9f\\x91\\x84ð\\x9f\\x91\\x85ð\\x9f\\x92¦ð\\x9f\\x92¦ð\\x9f\\x92¦  ', ' factsguide: society now    #motivation']\n",
      "31962\n",
      "31962\n",
      "['@user father dysfunctional selfish drags kids dysfunction. #run', \"@user @user thanks #lyft credit can't use cause offer wheelchair vans pdx. #disapointed #getthanked\", 'bihday majesty', '#model love u take u time urð\\x9f\\x93±!!! ð\\x9f\\x98\\x99ð\\x9f\\x98\\x8eð\\x9f\\x91\\x84ð\\x9f\\x91 ð\\x9f\\x92¦ð\\x9f\\x92¦ð\\x9f\\x92¦', 'factsguide: society #motivation']\n"
     ]
    }
   ],
   "source": [
    "def load_as_list(fname):\n",
    "    df = pd.read_csv(fname)\n",
    "    id = df['id'].values.tolist()\n",
    "    label = df['label'].values.tolist()\n",
    "    tweets = df['tweet'].values.tolist()\n",
    "    return tweets, label\n",
    "\n",
    "tweets, label = load_as_list(\"train.csv\")\n",
    "print(tweets[:5])\n",
    "# vocab = list(set(tweets))\n",
    "for i in range(len(tweets)):\n",
    "    tweets[i] = ' '.join([word for word in tweets[i].split() if word not in cachedStopWords])\n",
    "\n",
    "print(len(tweets))\n",
    "print(len(label))\n",
    "# print(len(vocab))\n",
    "print(tweets[:5])\n",
    "# print(vocab[:5])"
   ]
  },
  {
   "cell_type": "code",
   "execution_count": 3,
   "id": "ac62bb21",
   "metadata": {},
   "outputs": [
    {
     "name": "stdout",
     "output_type": "stream",
     "text": [
      "executed\n",
      "1197\n"
     ]
    }
   ],
   "source": [
    "word_count = {}\n",
    "for word in tweets:\n",
    "    word_list = word.split()\n",
    "    for sub_word in word_list:\n",
    "        if sub_word in word_count:\n",
    "            word_count[sub_word] += 1\n",
    "        else:\n",
    "            word_count[sub_word] = 1\n",
    "print(\"executed\")\n",
    "\n",
    "word_count = {key:val for key, val in word_count.items() if val >= 30}\n",
    "# print(word_count)\n",
    "print(len(word_count))"
   ]
  },
  {
   "cell_type": "code",
   "execution_count": 4,
   "id": "fd84bdd6",
   "metadata": {},
   "outputs": [
    {
     "name": "stdout",
     "output_type": "stream",
     "text": [
      "['@user father dysfunctional selfish drags kids dysfunction. #run', \"@user @user thanks #lyft credit can't use cause offer wheelchair vans pdx. #disapointed #getthanked\", 'bihday majesty', '#model love u take u time urð\\x9f\\x93±!!! ð\\x9f\\x98\\x99ð\\x9f\\x98\\x8eð\\x9f\\x91\\x84ð\\x9f\\x91 ð\\x9f\\x92¦ð\\x9f\\x92¦ð\\x9f\\x92¦', 'factsguide: society #motivation']\n",
      "31962\n",
      "31962\n"
     ]
    }
   ],
   "source": [
    "accepted_list = list(word_count.keys())\n",
    "\n",
    "for word in tweets:\n",
    "    word_list = word.split()\n",
    "    final_word_list = [word for word in word_list if word in accepted_list]\n",
    "    word = ' '.join(final_word_list)\n",
    "    \n",
    "print(tweets[:5])\n",
    "print(len(tweets))\n",
    "print(len(label))\n",
    "    "
   ]
  },
  {
   "cell_type": "code",
   "execution_count": 5,
   "id": "e46d5de0",
   "metadata": {},
   "outputs": [
    {
     "name": "stdout",
     "output_type": "stream",
     "text": [
      "[[1132, 40, 135, 183, 126, 39, 539, 499], [1132, 1132, 816, 1109, 912, 626, 136, 715, 248, 1122, 903, 260, 817, 1182], [728, 76], [1038, 1104, 715, 404, 715, 939, 1181, 566, 59], [459, 154, 403]]\n",
      "31962\n"
     ]
    }
   ],
   "source": [
    "vocab_size = 1200\n",
    "encoded_docs = [one_hot(d, vocab_size) for d in tweets]\n",
    "print(encoded_docs[:5])\n",
    "\n",
    "# pad documents to a max length of 4 words\n",
    "max_length = 500\n",
    "padded_docs = pad_sequences(encoded_docs, maxlen=max_length, padding='post')\n",
    "print(len(padded_docs))"
   ]
  },
  {
   "cell_type": "code",
   "execution_count": null,
   "id": "d1b653a7",
   "metadata": {
    "scrolled": true
   },
   "outputs": [
    {
     "name": "stdout",
     "output_type": "stream",
     "text": [
      "Model: \"sequential_1\"\n",
      "_________________________________________________________________\n",
      "Layer (type)                 Output Shape              Param #   \n",
      "=================================================================\n",
      "embedding_1 (Embedding)      (None, 500, 32)           38400     \n",
      "_________________________________________________________________\n",
      "lstm_1 (LSTM)                (None, 1024)              4329472   \n",
      "_________________________________________________________________\n",
      "dense_1 (Dense)              (None, 1)                 1025      \n",
      "=================================================================\n",
      "Total params: 4,368,897\n",
      "Trainable params: 4,368,897\n",
      "Non-trainable params: 0\n",
      "_________________________________________________________________\n",
      "None\n"
     ]
    },
    {
     "name": "stderr",
     "output_type": "stream",
     "text": [
      "C:\\Users\\Amaan_Hussain\\anaconda3\\envs\\keras_env\\lib\\site-packages\\tensorflow_core\\python\\framework\\indexed_slices.py:433: UserWarning: Converting sparse IndexedSlices to a dense Tensor of unknown shape. This may consume a large amount of memory.\n",
      "  \"Converting sparse IndexedSlices to a dense Tensor of unknown shape. \"\n"
     ]
    },
    {
     "name": "stdout",
     "output_type": "stream",
     "text": [
      "Epoch 1/100\n",
      " 2000/31962 [>.............................] - ETA: 1:52:51 - loss: 0.3984 - accuracy: 0.9315"
     ]
    }
   ],
   "source": [
    "# define the model\n",
    "model = Sequential()\n",
    "model.add(Embedding(vocab_size, 32, input_length=max_length))\n",
    "model.add(LSTM(1024))\n",
    "model.add(Dense(1, activation='sigmoid'))\n",
    "# compile the model\n",
    "model.compile(optimizer='adam', loss='binary_crossentropy', metrics=['accuracy'])\n",
    "# summarize the model\n",
    "print(model.summary())\n",
    "# fit the model\n",
    "model.fit(padded_docs, label, epochs=100, batch_size = 100)\n",
    "# evaluate the model\n",
    "loss, accuracy = model.evaluate(padded_docs, labels)\n",
    "print('Accuracy: %f' % (accuracy*100))"
   ]
  }
 ],
 "metadata": {
  "kernelspec": {
   "display_name": "Python 3 (ipykernel)",
   "language": "python",
   "name": "python3"
  },
  "language_info": {
   "codemirror_mode": {
    "name": "ipython",
    "version": 3
   },
   "file_extension": ".py",
   "mimetype": "text/x-python",
   "name": "python",
   "nbconvert_exporter": "python",
   "pygments_lexer": "ipython3",
   "version": "3.7.9"
  }
 },
 "nbformat": 4,
 "nbformat_minor": 5
}
