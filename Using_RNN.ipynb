{
  "cells": [
    {
      "cell_type": "code",
      "execution_count": 4,
      "id": "c6a507ee",
      "metadata": {
        "colab": {
          "base_uri": "https://localhost:8080/"
        },
        "id": "c6a507ee",
        "outputId": "617ba218-b552-4931-9929-644f0e525533"
      },
      "outputs": [
        {
          "output_type": "stream",
          "name": "stdout",
          "text": [
            "[nltk_data] Downloading package stopwords to /root/nltk_data...\n",
            "[nltk_data]   Package stopwords is already up-to-date!\n"
          ]
        }
      ],
      "source": [
        "import numpy as np\n",
        "import pandas as pd\n",
        "# Using regex\n",
        "import re\n",
        "from keras.preprocessing.text import one_hot\n",
        "from keras.preprocessing.sequence import pad_sequences\n",
        "from keras.models import Sequential\n",
        "from keras.layers import Dense\n",
        "from keras.layers import LSTM\n",
        "from keras.layers.embeddings import Embedding\n",
        "from keras.preprocessing import sequence\n",
        "import nltk\n",
        "nltk.download('stopwords')\n",
        "from nltk.corpus import stopwords\n",
        "cachedStopWords = stopwords.words(\"english\")\n",
        "# fix random seed for reproducibility\n",
        "np.random.seed(7)"
      ]
    },
    {
      "cell_type": "code",
      "execution_count": 5,
      "id": "a9d4a89d",
      "metadata": {
        "colab": {
          "base_uri": "https://localhost:8080/"
        },
        "id": "a9d4a89d",
        "outputId": "d4a58fa7-52ac-4fb6-c08e-684c0da4f070"
      },
      "outputs": [
        {
          "output_type": "stream",
          "name": "stdout",
          "text": [
            "[' @user when a father is dysfunctional and is so selfish he drags his kids into his dysfunction.   #run', \"@user @user thanks for #lyft credit i can't use cause they don't offer wheelchair vans in pdx.    #disapointed #getthanked\", '  bihday your majesty', '#model   i love u take with u all the time in urð\\x9f\\x93±!!! ð\\x9f\\x98\\x99ð\\x9f\\x98\\x8eð\\x9f\\x91\\x84ð\\x9f\\x91\\x85ð\\x9f\\x92¦ð\\x9f\\x92¦ð\\x9f\\x92¦  ', ' factsguide: society now    #motivation']\n",
            "21602\n",
            "21602\n",
            "['user father dysfunctional selfish drags kids dysfunction run', 'user user thanks lyft credit cant use cause offer wheelchair vans pdx disapointed getthanked', 'bihday majesty', 'model love u take u time urð ðððð ððð', 'factsguide society motivation']\n"
          ]
        }
      ],
      "source": [
        "def load_as_list(fname):\n",
        "    df = pd.read_csv(fname)\n",
        "    id = df['id'].values.tolist()\n",
        "    label = df['label'].values.tolist()\n",
        "    tweets = df['tweet'].values.tolist()\n",
        "    return tweets, label\n",
        "\n",
        "tweets, label = load_as_list(\"train.csv\")\n",
        "print(tweets[:5])\n",
        "\n",
        "x_train = tweets[:25570]\n",
        "y_train = label[:25570]\n",
        "\n",
        "x_test = tweets[25570:]\n",
        "y_test = label[:25570:]\n",
        "\n",
        "\n",
        "for i in range(len(x_train)):\n",
        "    x_train[i] = ' '.join([word for word in x_train[i].split() if word not in cachedStopWords])\n",
        "    x_train[i] = re.sub(r'[^\\w\\s]', '', x_train[i])\n",
        "\n",
        "print(len(x_train))\n",
        "print(len(label))\n",
        "# print(len(vocab))\n",
        "print(x_train[:5])\n",
        "# print(vocab[:5])"
      ]
    },
    {
      "cell_type": "code",
      "execution_count": 6,
      "id": "ac62bb21",
      "metadata": {
        "colab": {
          "base_uri": "https://localhost:8080/"
        },
        "id": "ac62bb21",
        "outputId": "b62a0c45-5526-4849-84d3-84747552453e"
      },
      "outputs": [
        {
          "output_type": "stream",
          "name": "stdout",
          "text": [
            "executed\n",
            "949\n"
          ]
        }
      ],
      "source": [
        "word_count = {}\n",
        "for word in x_train:\n",
        "    word_list = word.split()\n",
        "    for sub_word in word_list:\n",
        "        if sub_word in word_count:\n",
        "            word_count[sub_word] += 1\n",
        "        else:\n",
        "            word_count[sub_word] = 1\n",
        "print(\"executed\")\n",
        "\n",
        "word_count = {key:val for key, val in word_count.items() if val >= 30}\n",
        "# print(word_count)\n",
        "print(len(word_count))"
      ]
    },
    {
      "cell_type": "code",
      "execution_count": 7,
      "id": "fd84bdd6",
      "metadata": {
        "colab": {
          "base_uri": "https://localhost:8080/"
        },
        "id": "fd84bdd6",
        "outputId": "04010b40-7419-4365-f4c2-da55f0d8134f"
      },
      "outputs": [
        {
          "output_type": "stream",
          "name": "stdout",
          "text": [
            "['user father dysfunctional selfish drags kids dysfunction run', 'user user thanks lyft credit cant use cause offer wheelchair vans pdx disapointed getthanked', 'bihday majesty', 'model love u take u time urð ðððð ððð', 'factsguide society motivation']\n",
            "21602\n",
            "21602\n"
          ]
        }
      ],
      "source": [
        "accepted_list = list(word_count.keys())\n",
        "\n",
        "for word in x_train:\n",
        "    word_list = word.split()\n",
        "    final_word_list = [word for word in word_list if word in accepted_list]\n",
        "    word = ' '.join(final_word_list)\n",
        "    \n",
        "print(x_train[:5])\n",
        "print(len(tweets))\n",
        "print(len(label))\n",
        "    "
      ]
    },
    {
      "cell_type": "code",
      "execution_count": 8,
      "id": "e46d5de0",
      "metadata": {
        "colab": {
          "base_uri": "https://localhost:8080/"
        },
        "id": "e46d5de0",
        "outputId": "0a898458-00ce-4e87-8277-9fe25739ccd3"
      },
      "outputs": [
        {
          "output_type": "stream",
          "name": "stdout",
          "text": [
            "[[886, 1073, 344, 166, 484, 887, 992, 177], [886, 886, 988, 1093, 486, 382, 798, 665, 38, 122, 839, 146, 999, 454], [520, 192], [435, 317, 386, 25, 386, 1187, 528, 262, 77], [359, 1162, 1044]]\n",
            "21602\n"
          ]
        }
      ],
      "source": [
        "vocab_size = 1200\n",
        "encoded_docs = [one_hot(d, vocab_size) for d in x_train]\n",
        "print(encoded_docs[:5])\n",
        "\n",
        "# pad documents to a max length of 4 words\n",
        "max_length = 512\n",
        "padded_docs = pad_sequences(encoded_docs, maxlen=max_length, padding='post')\n",
        "print(len(padded_docs))"
      ]
    },
    {
      "cell_type": "code",
      "execution_count": null,
      "id": "d1b653a7",
      "metadata": {
        "scrolled": false,
        "colab": {
          "base_uri": "https://localhost:8080/"
        },
        "id": "d1b653a7",
        "outputId": "aa16b01d-3706-4805-b559-810959c54257"
      },
      "outputs": [
        {
          "output_type": "stream",
          "name": "stdout",
          "text": [
            "Model: \"sequential\"\n",
            "_________________________________________________________________\n",
            " Layer (type)                Output Shape              Param #   \n",
            "=================================================================\n",
            " embedding (Embedding)       (None, 512, 32)           38400     \n",
            "                                                                 \n",
            " lstm (LSTM)                 (None, 1024)              4329472   \n",
            "                                                                 \n",
            " dense (Dense)               (None, 1)                 1025      \n",
            "                                                                 \n",
            "=================================================================\n",
            "Total params: 4,368,897\n",
            "Trainable params: 4,368,897\n",
            "Non-trainable params: 0\n",
            "_________________________________________________________________\n",
            "None\n",
            "Epoch 1/5\n",
            "338/338 [==============================] - 10162s 30s/step - loss: 0.2643 - accuracy: 0.9288\n",
            "Epoch 2/5\n",
            "338/338 [==============================] - 10072s 30s/step - loss: 0.2537 - accuracy: 0.9309\n",
            "Epoch 3/5\n",
            "133/338 [==========>...................] - ETA: 1:40:47 - loss: 0.2548 - accuracy: 0.9302"
          ]
        }
      ],
      "source": [
        "# define the model\n",
        "model = Sequential()\n",
        "model.add(Embedding(vocab_size, 32, input_length=max_length))\n",
        "model.add(LSTM(1024))\n",
        "model.add(Dense(1, activation='sigmoid'))\n",
        "# compile the model\n",
        "model.compile(optimizer='adam', loss='binary_crossentropy', metrics=['accuracy'])\n",
        "# summarize the model\n",
        "print(model.summary())\n",
        "# fit the model\n",
        "model.fit(padded_docs, np.array(y_train), epochs= 5, batch_size = 64)"
      ]
    },
    {
      "cell_type": "code",
      "source": [
        "loss, accuracy = model.evaluate(padded_docs, np.array(y_train))\n",
        "print('Accuracy: %f' % (accuracy*100))"
      ],
      "metadata": {
        "id": "31HUNkLLLfi8"
      },
      "id": "31HUNkLLLfi8",
      "execution_count": null,
      "outputs": []
    }
  ],
  "metadata": {
    "kernelspec": {
      "display_name": "Python 3 (ipykernel)",
      "language": "python",
      "name": "python3"
    },
    "language_info": {
      "codemirror_mode": {
        "name": "ipython",
        "version": 3
      },
      "file_extension": ".py",
      "mimetype": "text/x-python",
      "name": "python",
      "nbconvert_exporter": "python",
      "pygments_lexer": "ipython3",
      "version": "3.7.9"
    },
    "colab": {
      "name": "Using_RNN.ipynb",
      "provenance": [],
      "collapsed_sections": []
    }
  },
  "nbformat": 4,
  "nbformat_minor": 5
}