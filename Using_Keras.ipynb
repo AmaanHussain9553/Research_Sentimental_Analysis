{
 "cells": [
  {
   "cell_type": "code",
   "execution_count": 1,
   "id": "ff7b86c3",
   "metadata": {},
   "outputs": [
    {
     "name": "stderr",
     "output_type": "stream",
     "text": [
      "[nltk_data] Downloading package stopwords to\n",
      "[nltk_data]     C:\\Users\\Amaan_Hussain\\AppData\\Roaming\\nltk_data...\n",
      "[nltk_data]   Package stopwords is already up-to-date!\n",
      "Using TensorFlow backend.\n"
     ]
    }
   ],
   "source": [
    "import pandas as pd\n",
    "import numpy as np\n",
    "\n",
    "import matplotlib.pyplot as plt\n",
    "plt.rcParams['figure.figsize'] = (6,6)\n",
    "\n",
    "from sklearn.feature_extraction.text import TfidfVectorizer\n",
    "from sklearn.preprocessing import LabelEncoder\n",
    "from sklearn.model_selection import train_test_split\n",
    "\n",
    "import nltk\n",
    "from nltk.corpus import stopwords\n",
    "nltk.download('stopwords')\n",
    "\n",
    "from keras.layers import Dense, Input, Activation, Conv1D\n",
    "from keras.layers import Dropout, MaxPooling1D, Flatten, Concatenate, Reshape\n",
    "from keras.models import Sequential, Model, load_model\n",
    "from keras.callbacks import ModelCheckpoint, EarlyStopping\n",
    "from keras.utils import np_utils\n",
    "\n",
    "import re\n",
    "import random\n",
    "import os"
   ]
  },
  {
   "cell_type": "code",
   "execution_count": 2,
   "id": "74220fef",
   "metadata": {},
   "outputs": [],
   "source": [
    "def load_as_list(fname):\n",
    "    df = pd.read_csv(fname)\n",
    "    id = df['id'].values.tolist()\n",
    "    label = df['label'].values.tolist()\n",
    "    tweets = df['tweet'].values.tolist()\n",
    "    return tweets, label"
   ]
  },
  {
   "cell_type": "code",
   "execution_count": 6,
   "id": "125c3c46",
   "metadata": {
    "scrolled": true
   },
   "outputs": [
    {
     "name": "stdout",
     "output_type": "stream",
     "text": [
      "31962\n",
      "25570\n"
     ]
    }
   ],
   "source": [
    "# getting the tweets and labels in a pandas dataframe\n",
    "tweets, label = load_as_list(\"train.csv\")\n",
    "# downloading the stopwords from nltk library\n",
    "stop_words = stopwords.words('english')\n",
    "# print(stop_words)\n",
    "\n",
    "print(len(tweets))\n",
    "\n",
    "# manually seperating 80% of the train data\n",
    "x_train = tweets[:25570]\n",
    "\n",
    "#removing all punctuations from the train data\n",
    "for i in range(len(x_train)):\n",
    "    x_train[i] = re.sub(r'[^\\w\\s]', '', x_train[i])\n",
    "    \n",
    "\n",
    "# print(x_train[:15])\n",
    "print(len(x_train))\n",
    "\n"
   ]
  },
  {
   "cell_type": "code",
   "execution_count": 35,
   "id": "018ace75",
   "metadata": {
    "scrolled": true
   },
   "outputs": [
    {
     "name": "stdout",
     "output_type": "stream",
     "text": [
      "TFIDF Transform Shape: (25570, 1005) with length: 25570\n",
      "TFIDF Value per Sentence Shape: (25570, 1) with length: 25570\n",
      "Labels Shape: (25570, 1) with length: 25570\n"
     ]
    }
   ],
   "source": [
    "# removing stop_words from tf_idf and setting min occurences of a word to 30\n",
    "tfidf = TfidfVectorizer(stop_words=stop_words,min_df=30)\n",
    "\n",
    "x = tfidf.fit_transform(x_train).toarray()\n",
    "y_train = np.array(label[:25570])\n",
    "\n",
    "y_train = np.reshape(y_train, (-1,1))\n",
    "\n",
    "# print(type(x),x.shape)\n",
    "# print(x[:2])\n",
    "tfidf_sentence_value = []\n",
    "\n",
    "for i in range(len(x)):\n",
    "    count = 0\n",
    "    num_count = len([ele for ele in x[i] if ele > 0])\n",
    "    if num_count > 0:\n",
    "        tfidf_sentence_value.append([sum(x[i]) / num_count]) \n",
    "    else:\n",
    "        tfidf_sentence_value.append([0])\n",
    "        \n",
    "\n",
    "# print(len(tfidf_sentence_value))\n",
    "# tfidf_values = np.array(tfidf_sentence_value)\n",
    "# print(tfidf_values.shape)\n",
    "# y_train = np.array(label[:25570])\n",
    "# print(y_train[:5])\n",
    "# tfidf_values.reshape(-1)\n",
    "# print(tfidf_values.shape)\n",
    "# print(tfidf_values[:5])\n",
    "\n",
    "print(f\"TFIDF Transform Shape: {x.shape} with length: {len(x)}\")\n",
    "print(f\"Sample: \\n{x[:5]}\\n\\n\")\n",
    "print(f\"TFIDF Value per Sentence Shape: {tfidf_values.shape} with length: {len(tfidf_values)}\")\n",
    "print(f\"Labels Shape: {y_train.shape} with length: {len(y_train)}\")\n",
    "    "
   ]
  },
  {
   "cell_type": "code",
   "execution_count": 34,
   "id": "7222150e",
   "metadata": {},
   "outputs": [
    {
     "name": "stdout",
     "output_type": "stream",
     "text": [
      "ERROR! Session/line number was not unique in database. History logging moved to new session 133\n",
      "Epoch 1/50\n",
      "25570/25570 [==============================] - 0s 9us/step - loss: 0.4643 - accuracy: 0.8974\n",
      "Epoch 2/50\n",
      "25570/25570 [==============================] - 0s 3us/step - loss: 0.2772 - accuracy: 0.9296\n",
      "Epoch 3/50\n",
      "25570/25570 [==============================] - 0s 4us/step - loss: 0.2692 - accuracy: 0.9296\n",
      "Epoch 4/50\n",
      "25570/25570 [==============================] - 0s 3us/step - loss: 0.2665 - accuracy: 0.9296\n",
      "Epoch 5/50\n",
      "25570/25570 [==============================] - 0s 4us/step - loss: 0.2642 - accuracy: 0.9296\n",
      "Epoch 6/50\n",
      "25570/25570 [==============================] - 0s 4us/step - loss: 0.2620 - accuracy: 0.9296\n",
      "Epoch 7/50\n",
      "25570/25570 [==============================] - 0s 3us/step - loss: 0.2596 - accuracy: 0.9296\n",
      "Epoch 8/50\n",
      "25570/25570 [==============================] - 0s 3us/step - loss: 0.2573 - accuracy: 0.9296\n",
      "Epoch 9/50\n",
      "25570/25570 [==============================] - 0s 4us/step - loss: 0.2554 - accuracy: 0.9296\n",
      "Epoch 10/50\n",
      "25570/25570 [==============================] - 0s 4us/step - loss: 0.2543 - accuracy: 0.9296\n",
      "Epoch 11/50\n",
      "25570/25570 [==============================] - 0s 3us/step - loss: 0.2538 - accuracy: 0.9296\n",
      "Epoch 12/50\n",
      "25570/25570 [==============================] - 0s 4us/step - loss: 0.2538 - accuracy: 0.9296\n",
      "Epoch 13/50\n",
      "25570/25570 [==============================] - 0s 3us/step - loss: 0.2540 - accuracy: 0.9296\n",
      "Epoch 14/50\n",
      "25570/25570 [==============================] - 0s 3us/step - loss: 0.2534 - accuracy: 0.9296\n",
      "Epoch 15/50\n",
      "25570/25570 [==============================] - 0s 4us/step - loss: 0.2535 - accuracy: 0.9296\n",
      "Epoch 16/50\n",
      "25570/25570 [==============================] - 0s 4us/step - loss: 0.2536 - accuracy: 0.9296\n",
      "Epoch 17/50\n",
      "25570/25570 [==============================] - 0s 3us/step - loss: 0.2536 - accuracy: 0.9296\n",
      "Epoch 18/50\n",
      "25570/25570 [==============================] - 0s 4us/step - loss: 0.2533 - accuracy: 0.9296\n",
      "Epoch 19/50\n",
      "25570/25570 [==============================] - 0s 4us/step - loss: 0.2535 - accuracy: 0.9296\n",
      "Epoch 20/50\n",
      "25570/25570 [==============================] - 0s 3us/step - loss: 0.2533 - accuracy: 0.9296\n",
      "Epoch 21/50\n",
      "25570/25570 [==============================] - 0s 3us/step - loss: 0.2537 - accuracy: 0.9296\n",
      "Epoch 22/50\n",
      "25570/25570 [==============================] - 0s 4us/step - loss: 0.2537 - accuracy: 0.9296\n",
      "Epoch 23/50\n",
      "25570/25570 [==============================] - 0s 3us/step - loss: 0.2537 - accuracy: 0.9296\n",
      "Epoch 24/50\n",
      "25570/25570 [==============================] - 0s 3us/step - loss: 0.2534 - accuracy: 0.9296\n",
      "Epoch 25/50\n",
      "25570/25570 [==============================] - 0s 3us/step - loss: 0.2534 - accuracy: 0.9296\n",
      "Epoch 26/50\n",
      "25570/25570 [==============================] - 0s 4us/step - loss: 0.2532 - accuracy: 0.9296\n",
      "Epoch 27/50\n",
      "25570/25570 [==============================] - 0s 4us/step - loss: 0.2533 - accuracy: 0.9296\n",
      "Epoch 28/50\n",
      "25570/25570 [==============================] - 0s 4us/step - loss: 0.2534 - accuracy: 0.9296\n",
      "Epoch 29/50\n",
      "25570/25570 [==============================] - 0s 4us/step - loss: 0.2539 - accuracy: 0.9296\n",
      "Epoch 30/50\n",
      "25570/25570 [==============================] - 0s 4us/step - loss: 0.2532 - accuracy: 0.9296\n",
      "Epoch 31/50\n",
      "25570/25570 [==============================] - 0s 4us/step - loss: 0.2532 - accuracy: 0.9296\n",
      "Epoch 32/50\n",
      "25570/25570 [==============================] - 0s 4us/step - loss: 0.2534 - accuracy: 0.9296\n",
      "Epoch 33/50\n",
      "25570/25570 [==============================] - 0s 4us/step - loss: 0.2536 - accuracy: 0.9296\n",
      "Epoch 34/50\n",
      "25570/25570 [==============================] - 0s 4us/step - loss: 0.2532 - accuracy: 0.9296\n",
      "Epoch 35/50\n",
      "25570/25570 [==============================] - 0s 4us/step - loss: 0.2531 - accuracy: 0.9296\n",
      "Epoch 36/50\n",
      "25570/25570 [==============================] - 0s 4us/step - loss: 0.2532 - accuracy: 0.9296\n",
      "Epoch 37/50\n",
      "25570/25570 [==============================] - 0s 4us/step - loss: 0.2535 - accuracy: 0.9296\n",
      "Epoch 38/50\n",
      "25570/25570 [==============================] - 0s 4us/step - loss: 0.2533 - accuracy: 0.9296\n",
      "Epoch 39/50\n",
      "25570/25570 [==============================] - 0s 4us/step - loss: 0.2533 - accuracy: 0.9296\n",
      "Epoch 40/50\n",
      "25570/25570 [==============================] - 0s 4us/step - loss: 0.2533 - accuracy: 0.9296\n",
      "Epoch 41/50\n",
      "25570/25570 [==============================] - 0s 4us/step - loss: 0.2530 - accuracy: 0.9296\n",
      "Epoch 42/50\n",
      "25570/25570 [==============================] - 0s 4us/step - loss: 0.2531 - accuracy: 0.9296\n",
      "Epoch 43/50\n",
      "25570/25570 [==============================] - 0s 4us/step - loss: 0.2531 - accuracy: 0.9296\n",
      "Epoch 44/50\n",
      "25570/25570 [==============================] - 0s 4us/step - loss: 0.2531 - accuracy: 0.9296\n",
      "Epoch 45/50\n",
      "25570/25570 [==============================] - 0s 4us/step - loss: 0.2535 - accuracy: 0.9296\n",
      "Epoch 46/50\n",
      "25570/25570 [==============================] - 0s 4us/step - loss: 0.2531 - accuracy: 0.9296\n",
      "Epoch 47/50\n",
      "25570/25570 [==============================] - 0s 4us/step - loss: 0.2530 - accuracy: 0.9296\n",
      "Epoch 48/50\n",
      "25570/25570 [==============================] - 0s 4us/step - loss: 0.2532 - accuracy: 0.9296\n",
      "Epoch 49/50\n",
      "25570/25570 [==============================] - 0s 4us/step - loss: 0.2538 - accuracy: 0.9296\n",
      "Epoch 50/50\n",
      "25570/25570 [==============================] - 0s 4us/step - loss: 0.2528 - accuracy: 0.9296\n"
     ]
    }
   ],
   "source": [
    "model = Sequential([\n",
    "    Dense(256, activation='relu', input_shape=(tfidf_values.shape[1],)),\n",
    "    Dense(128, activation='relu'),\n",
    "    Dense(64, activation='relu'),\n",
    "    Dense(1, activation='sigmoid'),\n",
    "])\n",
    "\n",
    "model.compile(optimizer='adam',\n",
    "              loss='binary_crossentropy',\n",
    "              metrics=['accuracy'])\n",
    "model.fit(tfidf_values,y_train,epochs=50,batch_size=1000)\n",
    "\n",
    "with open('modelsummary.txt', 'w') as f:\n",
    "    model.summary(print_fn=lambda x: f.write(x + '\\n'))"
   ]
  },
  {
   "cell_type": "code",
   "execution_count": null,
   "id": "14759f09",
   "metadata": {},
   "outputs": [],
   "source": [
    "pwd"
   ]
  }
 ],
 "metadata": {
  "kernelspec": {
   "display_name": "Python 3 (ipykernel)",
   "language": "python",
   "name": "python3"
  },
  "language_info": {
   "codemirror_mode": {
    "name": "ipython",
    "version": 3
   },
   "file_extension": ".py",
   "mimetype": "text/x-python",
   "name": "python",
   "nbconvert_exporter": "python",
   "pygments_lexer": "ipython3",
   "version": "3.7.9"
  }
 },
 "nbformat": 4,
 "nbformat_minor": 5
}
