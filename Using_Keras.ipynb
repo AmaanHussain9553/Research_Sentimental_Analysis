{
 "cells": [
  {
   "cell_type": "code",
   "execution_count": 1,
   "id": "ff7b86c3",
   "metadata": {},
   "outputs": [
    {
     "name": "stderr",
     "output_type": "stream",
     "text": [
      "Using TensorFlow backend.\n"
     ]
    }
   ],
   "source": [
    "import pandas as pd\n",
    "import numpy as np\n",
    "\n",
    "import matplotlib.pyplot as plt\n",
    "plt.rcParams['figure.figsize'] = (6,6)\n",
    "\n",
    "from sklearn.feature_extraction.text import TfidfVectorizer\n",
    "from sklearn.preprocessing import LabelEncoder\n",
    "from sklearn.model_selection import train_test_split\n",
    "\n",
    "from keras.layers import Dense, Input, Activation, Conv1D\n",
    "from keras.layers import Dropout, MaxPooling1D, Flatten, Concatenate, Reshape\n",
    "from keras.models import Sequential, Model, load_model\n",
    "from keras.callbacks import ModelCheckpoint, EarlyStopping\n",
    "from keras.utils import np_utils\n",
    "\n",
    "import re\n",
    "import random\n",
    "import os"
   ]
  },
  {
   "cell_type": "code",
   "execution_count": 2,
   "id": "74220fef",
   "metadata": {},
   "outputs": [],
   "source": [
    "def vectorize_train(training_documents):\n",
    "    # Initialize the TfidfVectorizer model and document-term matrix\n",
    "    vectorizer = TfidfVectorizer()\n",
    "    tfidf_train = None\n",
    "    # [YOUR CODE HERE]\n",
    "    tfidf_train = vectorizer.fit_transform(training_documents)\n",
    "    return vectorizer, tfidf_train\n",
    "\n",
    "def load_as_list(fname):\n",
    "    df = pd.read_csv(fname)\n",
    "    id = df['id'].values.tolist()\n",
    "    label = df['label'].values.tolist()\n",
    "    tweets = df['tweet'].values.tolist()\n",
    "    return tweets, label"
   ]
  },
  {
   "cell_type": "code",
   "execution_count": 3,
   "id": "125c3c46",
   "metadata": {},
   "outputs": [
    {
     "name": "stdout",
     "output_type": "stream",
     "text": [
      "[[0. 0. 0. ... 0. 0. 0.]\n",
      " [0. 0. 0. ... 0. 0. 0.]\n",
      " [0. 0. 0. ... 0. 0. 0.]\n",
      " ...\n",
      " [0. 0. 0. ... 0. 0. 0.]\n",
      " [0. 0. 0. ... 0. 0. 0.]\n",
      " [0. 0. 0. ... 0. 0. 0.]]\n",
      "(31962, 41392)\n"
     ]
    }
   ],
   "source": [
    "tweets, label = load_as_list(\"train.csv\")\n",
    "\n",
    "vectorizer, tf_idf = vectorize_train(tweets)\n",
    "\n",
    "tfidf = TfidfVectorizer(binary=True)\n",
    "\n",
    "x = tfidf.fit_transform(tweets).todense()\n",
    "print(x)\n",
    "\n",
    "print(x.shape)\n",
    "\n"
   ]
  },
  {
   "cell_type": "code",
   "execution_count": 4,
   "id": "7222150e",
   "metadata": {},
   "outputs": [
    {
     "name": "stdout",
     "output_type": "stream",
     "text": [
      "ERROR! Session/line number was not unique in database. History logging moved to new session 58\n",
      "Train on 25569 samples, validate on 6393 samples\n",
      "Epoch 1/10\n",
      " - 51s - loss: 14.2550 - accuracy: 0.0703 - val_loss: 14.1902 - val_accuracy: 0.0695\n",
      "Epoch 2/10\n",
      " - 40s - loss: 14.2550 - accuracy: 0.0703 - val_loss: 14.1902 - val_accuracy: 0.0695\n",
      "Epoch 3/10\n",
      " - 36s - loss: 14.2550 - accuracy: 0.0703 - val_loss: 14.1902 - val_accuracy: 0.0695\n",
      "Epoch 4/10\n",
      " - 36s - loss: 14.2550 - accuracy: 0.0703 - val_loss: 14.1902 - val_accuracy: 0.0695\n",
      "Epoch 5/10\n",
      " - 35s - loss: 14.2550 - accuracy: 0.0703 - val_loss: 14.1902 - val_accuracy: 0.0695\n",
      "Epoch 6/10\n",
      " - 34s - loss: 14.2550 - accuracy: 0.0703 - val_loss: 14.1902 - val_accuracy: 0.0695\n",
      "Epoch 7/10\n",
      " - 35s - loss: 14.2550 - accuracy: 0.0703 - val_loss: 14.1902 - val_accuracy: 0.0695\n",
      "Epoch 8/10\n",
      " - 35s - loss: 14.2550 - accuracy: 0.0703 - val_loss: 14.1902 - val_accuracy: 0.0695\n",
      "Epoch 9/10\n",
      " - 34s - loss: 14.2550 - accuracy: 0.0703 - val_loss: 14.1902 - val_accuracy: 0.0695\n",
      "Epoch 10/10\n",
      " - 35s - loss: 14.2550 - accuracy: 0.0703 - val_loss: 14.1902 - val_accuracy: 0.0695\n",
      "Model: \"sequential_2\"\n",
      "_________________________________________________________________\n",
      "Layer (type)                 Output Shape              Param #   \n",
      "=================================================================\n",
      "dense_3 (Dense)              (None, 32)                1324576   \n",
      "_________________________________________________________________\n",
      "dense_4 (Dense)              (None, 1)                 33        \n",
      "=================================================================\n",
      "Total params: 1,324,609\n",
      "Trainable params: 1,324,609\n",
      "Non-trainable params: 0\n",
      "_________________________________________________________________\n"
     ]
    }
   ],
   "source": [
    "model = Sequential([\n",
    "    Dense(32, activation='relu', input_shape=(41392,)),\n",
    "    Dense(1, activation='softmax'),\n",
    "])\n",
    "\n",
    "model.compile(optimizer='rmsprop',\n",
    "              loss='binary_crossentropy',\n",
    "              metrics=['accuracy'])\n",
    "model.fit(\n",
    "    x,\n",
    "    label,\n",
    "    batch_size=32,\n",
    "    epochs=10, verbose=2,\n",
    "    callbacks=None,\n",
    "    validation_split=0.2,\n",
    "    validation_data=None,\n",
    "    shuffle=True,\n",
    "    class_weight=None,\n",
    "    sample_weight=None,\n",
    "    initial_epoch=0)\n",
    "\n",
    "model.summary()"
   ]
  },
  {
   "cell_type": "code",
   "execution_count": 1,
   "id": "14759f09",
   "metadata": {},
   "outputs": [
    {
     "data": {
      "text/plain": [
       "'C:\\\\Users\\\\Amaan_Hussain\\\\Desktop\\\\UIC Research'"
      ]
     },
     "execution_count": 1,
     "metadata": {},
     "output_type": "execute_result"
    }
   ],
   "source": [
    "pwd"
   ]
  }
 ],
 "metadata": {
  "kernelspec": {
   "display_name": "Python 3 (ipykernel)",
   "language": "python",
   "name": "python3"
  },
  "language_info": {
   "codemirror_mode": {
    "name": "ipython",
    "version": 3
   },
   "file_extension": ".py",
   "mimetype": "text/x-python",
   "name": "python",
   "nbconvert_exporter": "python",
   "pygments_lexer": "ipython3",
   "version": "3.7.9"
  }
 },
 "nbformat": 4,
 "nbformat_minor": 5
}
